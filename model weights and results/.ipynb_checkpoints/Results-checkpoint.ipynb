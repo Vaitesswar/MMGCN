{
 "cells": [
  {
   "cell_type": "code",
   "execution_count": 1,
   "metadata": {},
   "outputs": [],
   "source": [
    "# Import packages\n",
    "import numpy as np\n",
    "import pickle\n",
    "from tqdm import tqdm"
   ]
  },
  {
   "cell_type": "code",
   "execution_count": 2,
   "metadata": {},
   "outputs": [
    {
     "name": "stderr",
     "output_type": "stream",
     "text": [
      "100%|██████████| 18932/18932 [00:00<00:00, 40282.83it/s]\n"
     ]
    },
    {
     "name": "stdout",
     "output_type": "stream",
     "text": [
      "Dataset: NTU RGB+D\n",
      "Top 1 Acc: 96.0 %\n",
      "Top 5 Acc: 99.5 %\n",
      "Total number of test samples (cross view): 18932\n"
     ]
    }
   ],
   "source": [
    "# NTU RGBD60 cross view results\n",
    "label = open('./NTU_RGBD_60/Cross view/cv_val_label.pkl', 'rb')\n",
    "label = np.array(pickle.load(label))\n",
    "r1 = open('./NTU_RGBD_60/Cross view/ntu_cv_directed_single_temp.pkl', 'rb')\n",
    "r1 = sorted(list(pickle.load(r1).items()))\n",
    "r2 = open('./NTU_RGBD_60/Cross view/ntu_cv_undirected_single_temp.pkl', 'rb')\n",
    "r2 = sorted(list(pickle.load(r2).items()))\n",
    "r3 = open('./NTU_RGBD_60/Cross view/ntu_cv_directed_multiple_temp.pkl', 'rb')\n",
    "r3 = sorted(list(pickle.load(r3).items()))\n",
    "r4 = open('./NTU_RGBD_60/Cross view/ntu_cv_undirected_multiple_temp.pkl', 'rb')\n",
    "r4 = sorted(list(pickle.load(r4).items()))\n",
    "right_num = total_num = right_num_5 = 0\n",
    "pred = list()\n",
    "for i in tqdm(range(len(label[0]))):\n",
    "    _, l = label[:, i]\n",
    "    _, r11 = r1[i]\n",
    "    _, r22 = r2[i]\n",
    "    _, r33 = r3[i]\n",
    "    _, r44 = r4[i]\n",
    "    r = r11 + r22 + r33 + r44\n",
    "    rank_5 = r.argsort()[-5:]\n",
    "    right_num_5 += int(int(l) in rank_5)\n",
    "    r = np.argmax(r)\n",
    "    right_num += int(r == int(l))\n",
    "    if r != int(l):\n",
    "        pred.append((int(l)+1,r+1))\n",
    "    total_num += 1\n",
    "acc = right_num / total_num\n",
    "acc5 = right_num_5 / total_num\n",
    "\n",
    "print('Dataset: NTU RGB+D')\n",
    "print('Top 1 Acc:', round(acc*100,1), '%')\n",
    "print('Top 5 Acc:', round(acc5*100,1), '%')\n",
    "print('Total number of test samples (cross view):', len(label[0]))"
   ]
  },
  {
   "cell_type": "code",
   "execution_count": 11,
   "metadata": {},
   "outputs": [
    {
     "name": "stderr",
     "output_type": "stream",
     "text": [
      "100%|██████████| 16487/16487 [00:00<00:00, 33675.40it/s]\n"
     ]
    },
    {
     "name": "stdout",
     "output_type": "stream",
     "text": [
      "Dataset: NTU RGB+D\n",
      "Top 1 Acc: 90.5 %\n",
      "Top 5 Acc: 98.3 %\n",
      "Total number of test samples (cross subject): 16487\n"
     ]
    }
   ],
   "source": [
    "# NTU RGBD60 cross subject results\n",
    "label = open('./NTU_RGBD_60/Cross subject/cs_val_label.pkl', 'rb')\n",
    "label = np.array(pickle.load(label))\n",
    "r1 = open('./NTU_RGBD_60/Cross subject/ntu_cs_directed_single_temp.pkl', 'rb')\n",
    "r1 = sorted(list(pickle.load(r1).items()))\n",
    "r2 = open('./NTU_RGBD_60/Cross subject/ntu_cs_undirected_single_temp.pkl', 'rb')\n",
    "r2 = sorted(list(pickle.load(r2).items()))\n",
    "r3 = open('./NTU_RGBD_60/Cross subject/ntu_cs_directed_multiple_temp.pkl', 'rb')\n",
    "r3 = sorted(list(pickle.load(r3).items()))\n",
    "r4 = open('./NTU_RGBD_60/Cross subject/ntu_cs_undirected_multiple_temp.pkl', 'rb')\n",
    "r4 = sorted(list(pickle.load(r4).items()))\n",
    "right_num = total_num = right_num_5 = 0\n",
    "pred = list()\n",
    "for i in tqdm(range(len(label[0]))):\n",
    "    _, l = label[:, i]\n",
    "    _, r11 = r1[i]\n",
    "    _, r22 = r2[i]\n",
    "    _, r33 = r3[i]\n",
    "    _, r44 = r4[i]\n",
    "    r = r11 + r22 + r33 + r44\n",
    "    rank_5 = r.argsort()[-5:]\n",
    "    right_num_5 += int(int(l) in rank_5)\n",
    "    r = np.argmax(r)\n",
    "    right_num += int(r == int(l))\n",
    "    if r != int(l):\n",
    "        pred.append((int(l)+1,r+1))\n",
    "    total_num += 1\n",
    "acc = right_num / total_num\n",
    "acc5 = right_num_5 / total_num\n",
    "\n",
    "print('Dataset: NTU RGB+D')\n",
    "print('Top 1 Acc:', round(acc*100,1), '%')\n",
    "print('Top 5 Acc:', round(acc5*100,1), '%')\n",
    "print('Total number of test samples (cross subject):', len(label[0]))"
   ]
  },
  {
   "cell_type": "code",
   "execution_count": 4,
   "metadata": {},
   "outputs": [
    {
     "name": "stderr",
     "output_type": "stream",
     "text": [
      "100%|██████████| 50919/50919 [00:01<00:00, 38286.85it/s]\n"
     ]
    },
    {
     "name": "stdout",
     "output_type": "stream",
     "text": [
      "Dataset: NTU RGB+D 120\n",
      "Top 1 Acc: 85.3 %\n",
      "Top 5 Acc: 97.1 %\n",
      "Total number of test samples (cross subject): 50919\n"
     ]
    }
   ],
   "source": [
    "# NTU RGBD120 cross subject results\n",
    "label = open('./NTU_RGBD_120/Cross subject/csub_val_label.pkl', 'rb')\n",
    "label = np.array(pickle.load(label))\n",
    "r1 = open('./NTU_RGBD_120/Cross subject/ntu_csub_directed_single_temp.pkl', 'rb')\n",
    "r1 = sorted(list(pickle.load(r1).items()))\n",
    "r2 = open('./NTU_RGBD_120/Cross subject/ntu_csub_undirected_single_temp.pkl', 'rb')\n",
    "r2 = sorted(list(pickle.load(r2).items()))\n",
    "r3 = open('./NTU_RGBD_120/Cross subject/ntu_csub_directed_multiple_temp.pkl', 'rb')\n",
    "r3 = sorted(list(pickle.load(r3).items()))\n",
    "r4 = open('./NTU_RGBD_120/Cross subject/ntu_csub_undirected_multiple_temp.pkl', 'rb')\n",
    "r4 = sorted(list(pickle.load(r4).items()))\n",
    "right_num = total_num = right_num_5 = 0\n",
    "pred = list()\n",
    "for i in tqdm(range(len(label[0]))):\n",
    "    _, l = label[:, i]\n",
    "    _, r11 = r1[i]\n",
    "    _, r22 = r2[i]\n",
    "    _, r33 = r3[i]\n",
    "    _, r44 = r4[i]\n",
    "    r = r11 + r22 + r33 + r44\n",
    "    rank_5 = r.argsort()[-5:]\n",
    "    right_num_5 += int(int(l) in rank_5)\n",
    "    r = np.argmax(r)\n",
    "    right_num += int(r == int(l))\n",
    "    if r != int(l):\n",
    "        pred.append((int(l)+1,r+1))\n",
    "    total_num += 1\n",
    "acc = right_num / total_num\n",
    "acc5 = right_num_5 / total_num\n",
    "\n",
    "print('Dataset: NTU RGB+D 120')\n",
    "print('Top 1 Acc:', round(acc*100,1), '%')\n",
    "print('Top 5 Acc:', round(acc5*100,1), '%')\n",
    "print('Total number of test samples (cross subject):', len(label[0]))"
   ]
  },
  {
   "cell_type": "code",
   "execution_count": 5,
   "metadata": {},
   "outputs": [
    {
     "name": "stderr",
     "output_type": "stream",
     "text": [
      "100%|██████████| 59477/59477 [00:01<00:00, 40021.36it/s]\n"
     ]
    },
    {
     "name": "stdout",
     "output_type": "stream",
     "text": [
      "Dataset: NTU RGB+D 120\n",
      "Top 1 Acc: 86.7 %\n",
      "Top 5 Acc: 97.0 %\n",
      "Total number of test samples (cross setup): 59477\n"
     ]
    }
   ],
   "source": [
    "# NTU RGBD120 cross setup results\n",
    "label = open('./NTU_RGBD_120/Cross setup/csetup_val_label.pkl', 'rb')\n",
    "label = np.array(pickle.load(label))\n",
    "r1 = open('./NTU_RGBD_120/Cross setup/ntu_csetup_directed_single_temp.pkl', 'rb')\n",
    "r1 = sorted(list(pickle.load(r1).items()))\n",
    "r2 = open('./NTU_RGBD_120/Cross setup/ntu_csetup_undirected_single_temp.pkl', 'rb')\n",
    "r2 = sorted(list(pickle.load(r2).items()))\n",
    "r3 = open('./NTU_RGBD_120/Cross setup/ntu_csetup_directed_multiple_temp.pkl', 'rb')\n",
    "r3 = sorted(list(pickle.load(r3).items()))\n",
    "r4 = open('./NTU_RGBD_120/Cross setup/ntu_csetup_undirected_multiple_temp.pkl', 'rb')\n",
    "r4 = sorted(list(pickle.load(r4).items()))\n",
    "right_num = total_num = right_num_5 = 0\n",
    "pred = list()\n",
    "for i in tqdm(range(len(label[0]))):\n",
    "    _, l = label[:, i]\n",
    "    _, r11 = r1[i]\n",
    "    _, r22 = r2[i]\n",
    "    _, r33 = r3[i]\n",
    "    _, r44 = r4[i]\n",
    "    r = r11 + r22 + r33 + r44\n",
    "    rank_5 = r.argsort()[-5:]\n",
    "    right_num_5 += int(int(l) in rank_5)\n",
    "    r = np.argmax(r)\n",
    "    right_num += int(r == int(l))\n",
    "    if r != int(l):\n",
    "        pred.append((int(l)+1,r+1))\n",
    "    total_num += 1\n",
    "acc = right_num / total_num\n",
    "acc5 = right_num_5 / total_num\n",
    "\n",
    "print('Dataset: NTU RGB+D 120')\n",
    "print('Top 1 Acc:', round(acc*100,1), '%')\n",
    "print('Top 5 Acc:', round(acc5*100,1), '%')\n",
    "print('Total number of test samples (cross setup):', len(label[0]))"
   ]
  },
  {
   "cell_type": "code",
   "execution_count": 6,
   "metadata": {},
   "outputs": [
    {
     "name": "stderr",
     "output_type": "stream",
     "text": [
      "100%|██████████| 464/464 [00:00<00:00, 25641.07it/s]\n"
     ]
    },
    {
     "name": "stdout",
     "output_type": "stream",
     "text": [
      "Dataset: NW+UCLA\n",
      "Top 1 Acc: 94.8 %\n",
      "Top 5 Acc: 100.0 %\n",
      "Total number of test samples (cross subject): 464\n"
     ]
    }
   ],
   "source": [
    "# NW+UCLA results\n",
    "label = open('./NW+UCLA/val_label.pkl', 'rb')\n",
    "label = np.array(pickle.load(label))\n",
    "r1 = open('./NW+UCLA/nw+ucla_directed_single_temp_test_score.pkl', 'rb')\n",
    "r1 = sorted(list(pickle.load(r1).items()))\n",
    "r2 = open('./NW+UCLA/nw+ucla_undirected_single_temp_test_score.pkl', 'rb')\n",
    "r2 = sorted(list(pickle.load(r2).items()))\n",
    "r3 = open('./NW+UCLA/nw+ucla_directed_multiple_temp_test_score.pkl', 'rb')\n",
    "r3 = sorted(list(pickle.load(r3).items()))\n",
    "r4 = open('./NW+UCLA/nw+ucla_undirected_multiple_temp_test_score.pkl', 'rb')\n",
    "r4 = sorted(list(pickle.load(r4).items()))\n",
    "right_num = total_num = right_num_5 = 0\n",
    "pred = list()\n",
    "for i in tqdm(range(len(label[0]))):\n",
    "    _, l = label[:, i]\n",
    "    _, r11 = r1[i]\n",
    "    _, r22 = r2[i]\n",
    "    _, r33 = r3[i]\n",
    "    _, r44 = r4[i]\n",
    "    r = r11 + r22 + r33 + r44\n",
    "    rank_5 = r.argsort()[-5:]\n",
    "    right_num_5 += int(int(l) in rank_5)\n",
    "    r = np.argmax(r)\n",
    "    right_num += int(r == int(l))\n",
    "    if r != int(l):\n",
    "        pred.append((int(l)+1,r+1))\n",
    "    total_num += 1\n",
    "acc = right_num / total_num\n",
    "acc5 = right_num_5 / total_num\n",
    "\n",
    "print('Dataset: NW+UCLA')\n",
    "print('Top 1 Acc:', round(acc*100,1), '%')\n",
    "print('Top 5 Acc:', round(acc5*100,1), '%')\n",
    "print('Total number of test samples (cross subject):', len(label[0]))"
   ]
  },
  {
   "cell_type": "code",
   "execution_count": 7,
   "metadata": {},
   "outputs": [
    {
     "name": "stderr",
     "output_type": "stream",
     "text": [
      "100%|██████████| 18932/18932 [00:00<00:00, 51229.38it/s]\n"
     ]
    },
    {
     "name": "stdout",
     "output_type": "stream",
     "text": [
      "Dataset: NTU RGB+D (Ablation study)\n",
      "Top 1 Acc: 94.1 %\n",
      "Top 5 Acc: 99.2 %\n",
      "Total number of test samples (cross view): 18932\n"
     ]
    }
   ],
   "source": [
    "# Ablation study\n",
    "label = open('./Ablation study/cv_val_label.pkl', 'rb')\n",
    "label = np.array(pickle.load(label))\n",
    "r1 = open('./Ablation study/ntu_cv_directed_source_only_test_score.pkl', 'rb')\n",
    "r1 = sorted(list(pickle.load(r1).items()))\n",
    "\n",
    "right_num = total_num = right_num_5 = 0\n",
    "pred = list()\n",
    "for i in tqdm(range(len(label[0]))):\n",
    "    _, l = label[:, i]\n",
    "    _, r = r1[i]\n",
    "    rank_5 = r.argsort()[-5:]\n",
    "    right_num_5 += int(int(l) in rank_5)\n",
    "    r = np.argmax(r)\n",
    "    right_num += int(r == int(l))\n",
    "    if r != int(l):\n",
    "        pred.append((int(l)+1,r+1))\n",
    "    total_num += 1\n",
    "acc = right_num / total_num\n",
    "acc5 = right_num_5 / total_num\n",
    "\n",
    "print('Dataset: NTU RGB+D (Ablation study)')\n",
    "print('Top 1 Acc:', round(acc*100,1), '%')\n",
    "print('Top 5 Acc:', round(acc5*100,1), '%')\n",
    "print('Total number of test samples (cross view):', len(label[0]))"
   ]
  },
  {
   "cell_type": "code",
   "execution_count": 8,
   "metadata": {},
   "outputs": [
    {
     "name": "stderr",
     "output_type": "stream",
     "text": [
      "100%|██████████| 16487/16487 [00:00<00:00, 36809.36it/s]\n"
     ]
    },
    {
     "name": "stdout",
     "output_type": "stream",
     "text": [
      "Dataset: NTU RGB+D (Input feature study)\n",
      "Top 1 Acc: 87.3 %\n",
      "Top 5 Acc: 97.6 %\n",
      "Total number of test samples (cross subject): 16487\n"
     ]
    }
   ],
   "source": [
    "# Input feature\n",
    "label = open('./Input feature study/cs_val_label.pkl', 'rb')\n",
    "label = np.array(pickle.load(label))\n",
    "r1 = open('./Input feature study/directed_joint.pkl', 'rb')\n",
    "r1 = sorted(list(pickle.load(r1).items()))\n",
    "r2 = open('./Input feature study/directed_bone.pkl', 'rb')\n",
    "r2 = sorted(list(pickle.load(r2).items()))\n",
    "r3 = open('./Input feature study/directed_motion.pkl', 'rb')\n",
    "r3 = sorted(list(pickle.load(r3).items()))\n",
    "r4 = open('./Input feature study/directed_joint_bone_motion.pkl', 'rb')\n",
    "r4 = sorted(list(pickle.load(r4).items()))\n",
    "\n",
    "right_num = total_num = right_num_5 = 0\n",
    "pred = list()\n",
    "for i in tqdm(range(len(label[0]))):\n",
    "    _, l = label[:, i]\n",
    "    _, r11 = r1[i] # Joint\n",
    "    _, r22 = r2[i] # Bone\n",
    "    _, r33 = r3[i] # Motion\n",
    "    _, r44 = r4[i] # Joint-Bone-Motion\n",
    "    r = r11\n",
    "    rank_5 = r.argsort()[-5:]\n",
    "    right_num_5 += int(int(l) in rank_5)\n",
    "    r = np.argmax(r)\n",
    "    right_num += int(r == int(l))\n",
    "    if r != int(l):\n",
    "        pred.append((int(l)+1,r+1))\n",
    "    total_num += 1\n",
    "acc = right_num / total_num\n",
    "acc5 = right_num_5 / total_num\n",
    "\n",
    "print('Dataset: NTU RGB+D (Input feature study)')\n",
    "print('Top 1 Acc:', round(acc*100,1), '%')\n",
    "print('Top 5 Acc:', round(acc5*100,1), '%')\n",
    "print('Total number of test samples (cross subject):', len(label[0]))"
   ]
  }
 ],
 "metadata": {
  "kernelspec": {
   "display_name": "Python 3",
   "language": "python",
   "name": "python3"
  },
  "language_info": {
   "codemirror_mode": {
    "name": "ipython",
    "version": 3
   },
   "file_extension": ".py",
   "mimetype": "text/x-python",
   "name": "python",
   "nbconvert_exporter": "python",
   "pygments_lexer": "ipython3",
   "version": "3.6.6"
  }
 },
 "nbformat": 4,
 "nbformat_minor": 4
}
